{
 "cells": [
  {
   "cell_type": "markdown",
   "metadata": {},
   "source": [
    "### Import Library"
   ]
  },
  {
   "cell_type": "code",
   "execution_count": 2,
   "metadata": {},
   "outputs": [],
   "source": [
    "# sys module\n",
    "import nltk\n",
    "from nltk.corpus import stopwords\n",
    "\n",
    "import string\n",
    "\n",
    "\n",
    "# third parties module\n",
    "import pandas as pd\n",
    "import numpy as np\n"
   ]
  },
  {
   "cell_type": "markdown",
   "metadata": {},
   "source": [
    "### Read Data"
   ]
  },
  {
   "cell_type": "code",
   "execution_count": 3,
   "metadata": {},
   "outputs": [],
   "source": [
    "imdb = pd.read_csv (\"data/imdb_labelled.txt\", sep='\\t', names=['comment', 'sentiment'], header=None)\n",
    "amazon = pd.read_csv (\"data/amazon_cells_labelled.txt\", sep='\\t', names=['comment', 'sentiment'], header=None)\n",
    "yelp = pd.read_csv (\"data/yelp_labelled.txt\", sep='\\t', names=['comment', 'sentiment'], header=None)"
   ]
  },
  {
   "cell_type": "code",
   "execution_count": 4,
   "metadata": {},
   "outputs": [],
   "source": [
    "data = [imdb, amazon, yelp]"
   ]
  },
  {
   "cell_type": "markdown",
   "metadata": {},
   "source": [
    "### Preprocessing"
   ]
  },
  {
   "cell_type": "code",
   "execution_count": 5,
   "metadata": {},
   "outputs": [],
   "source": [
    "stopword = stopwords.words ('english')\n",
    "def preprocessing (comment):\n",
    "    # remove punctuation\n",
    "    for p in string.punctuation:\n",
    "        comment = comment.replace (p, ' ')  \n",
    "    # tokenize\n",
    "    words = set (nltk.word_tokenize (comment.lower ()))\n",
    "    # remove char less than 3\n",
    "    words = set ([w for w in words if len (w) > 3])  \n",
    "    # remove stopwords\n",
    "    words = words - set (stopword)\n",
    "    \n",
    "    return words\n",
    "\n",
    "for x in data:\n",
    "    x['word'] = x['comment'].apply (preprocessing)"
   ]
  },
  {
   "cell_type": "code",
   "execution_count": null,
   "metadata": {},
   "outputs": [],
   "source": []
  }
 ],
 "metadata": {
  "kernelspec": {
   "display_name": "Python 3",
   "language": "python",
   "name": "python3"
  },
  "language_info": {
   "codemirror_mode": {
    "name": "ipython",
    "version": 3
   },
   "file_extension": ".py",
   "mimetype": "text/x-python",
   "name": "python",
   "nbconvert_exporter": "python",
   "pygments_lexer": "ipython3",
   "version": "3.7.6"
  }
 },
 "nbformat": 4,
 "nbformat_minor": 4
}
