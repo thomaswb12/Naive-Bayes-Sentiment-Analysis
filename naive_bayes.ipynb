{
 "cells": [
  {
   "cell_type": "markdown",
   "metadata": {},
   "source": [
    "### Import Library"
   ]
  },
  {
   "cell_type": "code",
   "execution_count": 1,
   "metadata": {},
   "outputs": [],
   "source": [
    "# sys module\n",
    "import nltk\n",
    "from nltk.corpus import stopwords\n",
    "\n",
    "import string\n",
    "\n",
    "# third parties module\n",
    "import pandas as pd\n",
    "import numpy as np\n",
    "import matplotlib.pyplot as plt"
   ]
  },
  {
   "cell_type": "markdown",
   "metadata": {},
   "source": [
    "### Read Data"
   ]
  },
  {
   "cell_type": "code",
   "execution_count": 2,
   "metadata": {},
   "outputs": [],
   "source": [
    "imdb = pd.read_csv (\"data/imdb_labelled.txt\", sep='\\t', names=['comment', 'sentiment'], header=None)\n",
    "amazon = pd.read_csv (\"data/amazon_cells_labelled.txt\", sep='\\t', names=['comment', 'sentiment'], header=None)\n",
    "yelp = pd.read_csv (\"data/yelp_labelled.txt\", sep='\\t', names=['comment', 'sentiment'], header=None)"
   ]
  },
  {
   "cell_type": "code",
   "execution_count": 3,
   "metadata": {},
   "outputs": [],
   "source": [
    "data = [imdb, amazon, yelp]"
   ]
  },
  {
   "cell_type": "markdown",
   "metadata": {},
   "source": [
    "### Preprocessing"
   ]
  },
  {
   "cell_type": "code",
   "execution_count": 4,
   "metadata": {},
   "outputs": [],
   "source": [
    "stopword = stopwords.words ('english')\n",
    "def preprocessing (comment):\n",
    "    # remove punctuation\n",
    "    for p in string.punctuation:\n",
    "        comment = comment.replace (p, ' ')  \n",
    "    # tokenize\n",
    "    words = set (nltk.word_tokenize (comment.lower ()))\n",
    "    # remove char less than 3\n",
    "    words = set ([w for w in words if len (w) > 3])  \n",
    "    # remove stopwords\n",
    "    words = words - set (stopword)\n",
    "    \n",
    "    return words\n",
    "\n",
    "for x in data:\n",
    "    x['word'] = x['comment'].apply (preprocessing)"
   ]
  },
  {
   "cell_type": "markdown",
   "metadata": {},
   "source": [
    "### Feature Extraction"
   ]
  },
  {
   "cell_type": "code",
   "execution_count": 5,
   "metadata": {},
   "outputs": [],
   "source": [
    "# feature extraction\n",
    "def extract_feature (word):\n",
    "    feature = {}\n",
    "    for w in word:\n",
    "        feature[w] = True\n",
    "    return feature\n",
    "\n",
    "for x in data:\n",
    "    x['feature'] = x['word'].apply (extract_feature)"
   ]
  },
  {
   "cell_type": "markdown",
   "metadata": {},
   "source": [
    "#### Visualization Function "
   ]
  },
  {
   "cell_type": "code",
   "execution_count": 6,
   "metadata": {},
   "outputs": [],
   "source": [
    "name = ['IMDb', 'Amazon', 'Yelp']\n",
    "\n",
    "for i in range(len(data)):\n",
    "    data[i]['name'] = name[i]"
   ]
  },
  {
   "cell_type": "code",
   "execution_count": 7,
   "metadata": {},
   "outputs": [],
   "source": [
    "# bar chart function\n",
    "\n",
    "def create_bar_chart(performance, materials, yLabel, chartTitle):\n",
    "    x_pos = np.arange(len(materials))\n",
    "    fig, ax = plt.subplots()\n",
    "    bar_plot = ax.bar(x_pos, performance, align='center', alpha=0.5, ecolor='black', capsize=10, color='mcygb')\n",
    "    for idx,rect in enumerate(bar_plot):\n",
    "        height = rect.get_height()\n",
    "        ax.text(rect.get_x() + rect.get_width()/2., 0.93*height, performance[idx], ha='center', va='bottom', rotation=0)  \n",
    "    ax.set_ylabel(yLabel)\n",
    "    ax.set_ylim(0,1)\n",
    "    ax.set_xticks(x_pos)\n",
    "    ax.set_xticklabels(materials)\n",
    "    ax.set_title(chartTitle)\n",
    "    ax.yaxis.grid(True)"
   ]
  },
  {
   "cell_type": "code",
   "execution_count": 8,
   "metadata": {},
   "outputs": [],
   "source": [
    "# bar chart with error bar function\n",
    "\n",
    "def create_bar_with_error_chart(CTEs, error, materials, yLabel, chartTitle):\n",
    "    x_pos = np.arange(len(CTEs))\n",
    "    fig, ax = plt.subplots()\n",
    "    bar_plot = ax.bar(x_pos, CTEs, yerr=error, align='center', alpha=0.5, ecolor='black', capsize=10, color='mcygb')\n",
    "    for idx,rect in enumerate(bar_plot):\n",
    "        height = rect.get_height()\n",
    "        ax.text(rect.get_x() + rect.get_width()/1.2, 1.0*height, CTEs[idx], ha='center', va='bottom', rotation=0)  \n",
    "    ax.set_ylabel(yLabel)\n",
    "    ax.set_ylim(0,1)\n",
    "    ax.set_xticks(x_pos)\n",
    "    ax.set_xticklabels(materials)\n",
    "    ax.set_title(chartTitle)\n",
    "    ax.yaxis.grid(True)"
   ]
  }
 ],
 "metadata": {
  "kernelspec": {
   "display_name": "Python 3",
   "language": "python",
   "name": "python3"
  },
  "language_info": {
   "codemirror_mode": {
    "name": "ipython",
    "version": 3
   },
   "file_extension": ".py",
   "mimetype": "text/x-python",
   "name": "python",
   "nbconvert_exporter": "python",
   "pygments_lexer": "ipython3",
   "version": "3.7.4"
  }
 },
 "nbformat": 4,
 "nbformat_minor": 4
}
