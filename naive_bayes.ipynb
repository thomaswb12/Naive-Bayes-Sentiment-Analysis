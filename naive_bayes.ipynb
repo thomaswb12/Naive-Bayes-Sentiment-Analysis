{
 "cells": [
  {
   "cell_type": "markdown",
   "metadata": {},
   "source": [
    "### Import Library"
   ]
  },
  {
   "cell_type": "code",
   "execution_count": null,
   "metadata": {},
   "outputs": [],
   "source": [
    "# sys module\n",
    "import nltk\n",
    "from nltk.corpus import stopwords\n",
    "\n",
    "import string\n",
    "\n",
    "# third parties module\n",
    "import pandas as pd\n",
    "import numpy as np"
   ]
  },
  {
   "cell_type": "markdown",
   "metadata": {},
   "source": [
    "### Read Data"
   ]
  },
  {
   "cell_type": "code",
   "execution_count": null,
   "metadata": {},
   "outputs": [],
   "source": [
    "imdb = pd.read_csv (\"data/imdb_labelled.txt\", sep='\\t', names=['comment', 'sentiment'], header=None)\n",
    "amazon = pd.read_csv (\"data/amazon_cells_labelled.txt\", sep='\\t', names=['comment', 'sentiment'], header=None)\n",
    "yelp = pd.read_csv (\"data/yelp_labelled.txt\", sep='\\t', names=['comment', 'sentiment'], header=None)"
   ]
  },
  {
   "cell_type": "code",
   "execution_count": null,
   "metadata": {},
   "outputs": [],
   "source": [
    "data = [imdb, amazon, yelp]"
   ]
  },
  {
   "cell_type": "markdown",
   "metadata": {},
   "source": [
    "### Preprocessing"
   ]
  },
  {
   "cell_type": "code",
   "execution_count": null,
   "metadata": {},
   "outputs": [],
   "source": [
    "stopword = stopwords.words ('english')\n",
    "def preprocessing (comment):\n",
    "    # remove punctuation\n",
    "    for p in string.punctuation:\n",
    "        comment = comment.replace (p, ' ')  \n",
    "    # tokenize\n",
    "    words = set (nltk.word_tokenize (comment.lower ()))\n",
    "    # remove char less than 3\n",
    "    words = set ([w for w in words if len (w) > 3])  \n",
    "    # remove stopwords\n",
    "    words = words - set (stopword)\n",
    "    \n",
    "    return words\n",
    "\n",
    "for x in data:\n",
    "    x['word'] = x['comment'].apply (preprocessing)"
   ]
  },
  {
   "cell_type": "markdown",
   "metadata": {},
   "source": [
    "### Feature Extraction"
   ]
  },
  {
   "cell_type": "code",
   "execution_count": null,
   "metadata": {},
   "outputs": [],
   "source": [
    "# feature extraction\n",
    "def extract_feature (word):\n",
    "    feature = {}\n",
    "    for w in word:\n",
    "        feature[w] = True\n",
    "    return feature\n",
    "\n",
    "for x in data:\n",
    "    x['feature'] = x['word'].apply (extract_feature)"
   ]
  }
 ],
 "metadata": {
  "kernelspec": {
   "display_name": "Python 3",
   "language": "python",
   "name": "python3"
  },
  "language_info": {
   "codemirror_mode": {
    "name": "ipython",
    "version": 3
   },
   "file_extension": ".py",
   "mimetype": "text/x-python",
   "name": "python",
   "nbconvert_exporter": "python",
   "pygments_lexer": "ipython3",
   "version": "3.7.4"
  }
 },
 "nbformat": 4,
 "nbformat_minor": 4
}
